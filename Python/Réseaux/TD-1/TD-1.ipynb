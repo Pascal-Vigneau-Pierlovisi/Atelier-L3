{
 "cells": [
  {
   "cell_type": "markdown",
   "id": "b4d6574e",
   "metadata": {},
   "source": [
    "# Exercice 1\n",
    "\n",
    "Le \\$ fait passer en mode maths.\n",
    "1. a.$100 Mbps = 100 \\times 1 000 000 = 100 000 000 bps = 10 ^{8} bps$\n",
    "\n",
    "    b.$56 kbps = 56000 bps$\n",
    "    \n",
    "    c. $60 Gbps = 60000000000 bps = 6 \\times 10^{10} bps$\n",
    "    \n",
    "    \n",
    "2. a. $33600 bps = 0.0336 Mbps = 33600 \\times 10^{-6} Mbps$\n",
    "    \n",
    "    b. $3 Gbps = 3000 Mbps = 3 \\times 10^{3} Mbps$\n",
    "    \n",
    "    c. $100 kbps = 0.1 Mbps = 100 \\times 10^{-3} Mbps$\n",
    "    \n",
    "    \n",
    "3. $6.2 Mo = 49 \\ 600 \\ 000 b$\n",
    "\n",
    "    $\\dfrac{49600000}{56000} \\approxeq 886$\n",
    "    \n",
    "    Il faudra 886 secondes pour télécharger cette image.\n",
    "    \n",
    "4. $50 Mo = 400 \\ 000 \\ 000 b$\n",
    "\n",
    "    $\\dfrac{49600000}{400000000} \\approxeq 0.124$\n",
    "    \n",
    "    Il faudra 0.124 secondes pour télécharger cette image.\n"
   ]
  },
  {
   "cell_type": "markdown",
   "id": "84e7ba39",
   "metadata": {},
   "source": [
    "# Exercice 2\n",
    "\n",
    "1.  214 en base 2 = $ 0110 \\ 1011$ 214 en base 16 = D6 | 2022 en base 2 = $ 0111\\ 1110\\ 0110$ 2022 en base 16 = 7E6\n",
    "\n",
    "\n",
    "2. 92 = $ 0111 \\ 0100$ | -51 = $ 1011 \\ 0011$ | -114 = $ 1011 \\ 1010$\n",
    "\n",
    "\n",
    "3. 15FF en base 1O = 5625 | en base 2 = 0001 0101 1111 1001 /\\ 024B8E en base 10 = 150 414 | en base 2 = 0010 0100 1011 1000 1110  /\\ E41F en base 10 = 58399 | en base 2 = 1110 0100 0001 1111\n",
    "\n",
    "\n",
    "4. 2 104 845 en base 2 = 00000000 00100000 00011110 00001101 (Big)| en little 00001101 00011110 00100000 00000000\n",
    "\n",
    "\n",
    "5. ça sera $ log(k) \\times n$"
   ]
  },
  {
   "cell_type": "markdown",
   "id": "c68525b6",
   "metadata": {},
   "source": [
    "# Exercice 3"
   ]
  },
  {
   "cell_type": "code",
   "execution_count": 53,
   "id": "b5866def",
   "metadata": {},
   "outputs": [
    {
     "name": "stdout",
     "output_type": "stream",
     "text": [
      "111110100 111110100 111110100 1 1\n",
      "500\n",
      "500\n",
      "500\n",
      "1\n",
      "1\n",
      "None\n"
     ]
    }
   ],
   "source": [
    "# Fonction encoder_donnees() qui permet de stocker des entiers et des booléens dans 32 bits\n",
    "def encoder_donnees(n1 : int, n2 : int, n3 : int, b1 : bool, b2 : bool) -> str:\n",
    "    \n",
    "    res = \"\"  # Initialisation de la valeur de retour\n",
    "    \n",
    "    if(0 <= n1 <= 500 and 0 <= n2 <= 500 and 0 <= n3 <= 500):  # Si les 3 entiers sont bien entre 0 et 500\n",
    "        \n",
    "        n1 = str(bin(n1))[2:]  # On slice pour enlever les caractères inutiles\n",
    "        n2 = str(bin(n2))[2:]  # On slice pour enlever les caractères inutiles\n",
    "        n3 = str(bin(n3))[2:]  # On slice pour enlever les caractères inutiles\n",
    "        b1 = str(bin(b1))[2:]  # On slice pour enlever les caractères inutiles\n",
    "        b2 = str(bin(b2))[2:]  # On slice pour enlever les caractères inutiles\n",
    "        \n",
    "        res = n1 + \" \" + n2 + \" \" + n3 + \" \" + b1 + \" \" + b2\n",
    "        \n",
    "    return res\n",
    "\n",
    "# Fonction decoder_donnees() qui permet de décoder des octets en entiers\n",
    "def decoder_donnees(byte : str):\n",
    "    height = byte.split(\" \")\n",
    "    for idx, byte in enumerate(height):\n",
    "        res = 0\n",
    "        puissance = 0\n",
    "        for i in reversed(byte):\n",
    "            if(i == \"1\"):\n",
    "                res = res + (2 ** (puissance))\n",
    "            puissance +=1\n",
    "        \n",
    "        print(res)\n",
    "            \n",
    "        \n",
    "if __name__ == '__main__':\n",
    "    print(encoder_donnees(500, 500, 500, 1, 1))\n",
    "    print(decoder_donnees(encoder_donnees(500, 500, 500, 1, 1)))\n",
    "    "
   ]
  },
  {
   "cell_type": "markdown",
   "id": "9b73358b",
   "metadata": {},
   "source": [
    "# Deuxième manière de le faire"
   ]
  },
  {
   "cell_type": "code",
   "execution_count": 1,
   "id": "bf0bc80b",
   "metadata": {},
   "outputs": [],
   "source": [
    "import numpy as np\n",
    "\n",
    "def extraire_entier(n: np.uintc, debut, fin, taille = 32):\n",
    "    masque = (1 << (fin-debut+1))-1\n",
    "    decalage = taille - (fin-debut+1) - debut\n",
    "    extraction = (n & (masque << decalage)) >> decalage\n",
    "    \n",
    "    return extraction\n",
    "\n",
    "def encoder_3_nombres_2_bool(a: np.uintc,\n",
    "                            b: np.uintc,\n",
    "                            c: np.uintc,\n",
    "                            bln1: bool,\n",
    "                            bln2: bool)-> np.uintc:\n",
    "    assert 0 <= a <= 500 and 0 <= b <= 500 and 0 <= c <=500\n",
    "    \n",
    "    return np.uintc((a << 23) + (b << 14) + (c << 5) + (bln1 << 4) + (bln2 << 3))\n",
    "\n",
    "def decoder_int_special(n :np.uintc) -> tuple:\n",
    "    a =  extraire_entier(n, 0, 8)\n",
    "    b = extraire_entier(n, 9, 17)\n",
    "    c = extraire_entier(n, 18, 26)\n",
    "    bln1 = bool(n & 0b10000)\n",
    "    "
   ]
  },
  {
   "cell_type": "code",
   "execution_count": 4,
   "id": "dee7412f",
   "metadata": {},
   "outputs": [
    {
     "name": "stdout",
     "output_type": "stream",
     "text": [
      "2508357968\n"
     ]
    }
   ],
   "source": [
    "print(encoder_3_nombres_2_bool(299, 10, 10, 1, 0))"
   ]
  },
  {
   "cell_type": "markdown",
   "id": "cee33dcb",
   "metadata": {},
   "source": [
    "# Comment convertir un float en binaire\n",
    "\n",
    "### 1) Décomposition en puissance de 2\n",
    "$0.625 = 2^{-1}+2^{-3}$\n",
    "\n",
    "### 2) Factoriser par le terme le plus grand\n",
    "$2^{-1}+2^{-3} = 2^{-1}(2^{O}+2^{-2})$\n",
    "\n",
    "=$2^{-1}(1+0.25)$\n",
    "\n",
    "Forme générale : x = S $\\times 2^{e-127} \\times (1+m)$\n",
    "\n",
    "### 3) Expression sous forme générale\n",
    "$0.625 = 1 \\times 2^{126-127} \\times (1+0.25)$\n",
    "\n",
    "### 4) Détermination des bits mantisse\n",
    "$0.25 \\times 2 = 0.5 + 0$\n",
    "\n",
    "$0.5 \\times 2 = 0 + 1$\n",
    "\n",
    "$0 \\times 2 = 0 + 0$\n",
    "\n",
    "m = 010....\n",
    "\n",
    "### 5) Écriture du nombre flotant\n",
    "\n",
    "<span style=\"color:blue\">0</span><span style=\"color:green\"> 0111 1110</span> 0100000000....\n"
   ]
  },
  {
   "cell_type": "code",
   "execution_count": null,
   "id": "c64c4519",
   "metadata": {},
   "outputs": [],
   "source": []
  }
 ],
 "metadata": {
  "kernelspec": {
   "display_name": "Python 3 (ipykernel)",
   "language": "python",
   "name": "python3"
  },
  "language_info": {
   "codemirror_mode": {
    "name": "ipython",
    "version": 3
   },
   "file_extension": ".py",
   "mimetype": "text/x-python",
   "name": "python",
   "nbconvert_exporter": "python",
   "pygments_lexer": "ipython3",
   "version": "3.9.12"
  }
 },
 "nbformat": 4,
 "nbformat_minor": 5
}
